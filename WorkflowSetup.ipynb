{
 "cells": [
  {
   "cell_type": "markdown",
   "metadata": {},
   "source": [
    "# Set up instructions\n",
    "\n",
    "This workflow covers the preprocessing of images in `python` and analysis in `R`. \n",
    "\n",
    "Set up a python environment."
   ]
  },
  {
   "cell_type": "code",
   "execution_count": null,
   "metadata": {},
   "outputs": [],
   "source": [
    "# Edit the path directory\n",
    "path_dir = \"~/Desktop/Project\" "
   ]
  }
 ],
 "metadata": {
  "language_info": {
   "name": "python"
  }
 },
 "nbformat": 4,
 "nbformat_minor": 2
}
