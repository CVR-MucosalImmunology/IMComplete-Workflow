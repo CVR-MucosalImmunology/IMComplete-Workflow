{
 "cells": [
  {
   "cell_type": "markdown",
   "metadata": {},
   "source": [
    "# Preprocessing of Imaging data\n",
    "<i>**Latest update</i> - Dec 2024**  \n",
    "\n",
    "#### **Authors:**  \n",
    "[Oscar Dong](https://github.com/Awesomenous) (oscardong4@gmail.com) | [Thomas O'Neil](https://github.com/DrThomasOneil) (thomas.oneil@sydney.edu.au) | [Heeva Baharlou](heeva.baharlou@sydney.edu.com)  \n",
    "\n",
    "##### The purpose of this notebook is to provide a consolidated approach to IMC analysis and forms the prerequisite steps to the IMComplete R package workflow. We focused \n"
   ]
  }
 ],
 "metadata": {
  "language_info": {
   "name": "python"
  }
 },
 "nbformat": 4,
 "nbformat_minor": 2
}
